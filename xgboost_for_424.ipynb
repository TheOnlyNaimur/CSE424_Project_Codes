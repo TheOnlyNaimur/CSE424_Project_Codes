{
  "nbformat": 4,
  "nbformat_minor": 0,
  "metadata": {
    "colab": {
      "provenance": []
    },
    "kernelspec": {
      "name": "python3",
      "display_name": "Python 3"
    },
    "language_info": {
      "name": "python"
    }
  },
  "cells": [
    {
      "cell_type": "markdown",
      "source": [],
      "metadata": {
        "id": "DFi0DaHWcW4k"
      }
    },
    {
      "cell_type": "code",
      "source": [],
      "metadata": {
        "id": "SCaid8wT4pdk"
      },
      "execution_count": null,
      "outputs": []
    },
    {
      "cell_type": "code",
      "source": [
        "import warnings\n",
        "from sklearn.exceptions import UndefinedMetricWarning\n",
        "import pandas as file\n",
        "from sklearn.model_selection import train_test_split\n",
        "from sklearn.metrics import classification_report\n",
        "import xgboost as x\n",
        "\n",
        "warnings.filterwarnings(\"ignore\", category=UndefinedMetricWarning)\n",
        "\n",
        "data = file.read_csv('/content/sample_data/cleaned_earthquakes_2023_global.csv')\n",
        "\n",
        "info_1 = data[['depth', 'latitude', 'longitude', 'gap', 'dmin', 'nst', 'rms']]\n",
        "info_2 = data['mag']\n",
        "\n",
        "info_1 = info_1.dropna()\n",
        "info_2 = info_2[info_1.index]\n",
        "\n",
        "\n",
        "t_holds = [2.0, 4.0, 6.0]\n",
        "info2_class = file.cut(info_2, bins=[-float('inf')] + t_holds + [float('inf')], labels=[0, 1, 2, 3])\n",
        "\n",
        "train1, test1, train2, test2 = train_test_split(info_1, info2_class, test_size=0.2, random_state=42)\n",
        "\n",
        "ml_model = x.XGBClassifier(n_estimators=50, learning_rate=0.1, max_depth=3, random_state=42)\n",
        "ml_model.fit(train1, train2)\n",
        "\n",
        "predict_1 = ml_model.predict(test1)\n",
        "\n",
        "print(classification_report(test2, predict_1, digits=2))\n"
      ],
      "metadata": {
        "colab": {
          "base_uri": "https://localhost:8080/"
        },
        "id": "5AYigYDoc6mr",
        "outputId": "cf0194d1-2c27-4a46-9a19-9747d3088e8b"
      },
      "execution_count": 7,
      "outputs": [
        {
          "output_type": "stream",
          "name": "stdout",
          "text": [
            "              precision    recall  f1-score   support\n",
            "\n",
            "           0       0.99      1.00      0.99      4526\n",
            "           1       0.47      0.13      0.20        54\n",
            "           2       0.00      0.00      0.00         3\n",
            "\n",
            "    accuracy                           0.99      4583\n",
            "   macro avg       0.49      0.38      0.40      4583\n",
            "weighted avg       0.98      0.99      0.98      4583\n",
            "\n"
          ]
        }
      ]
    }
  ]
}